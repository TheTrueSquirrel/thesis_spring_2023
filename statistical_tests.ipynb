{
 "cells": [
  {
   "cell_type": "code",
   "execution_count": 1,
   "metadata": {},
   "outputs": [],
   "source": [
    "import pandas as pd"
   ]
  },
  {
   "cell_type": "code",
   "execution_count": 2,
   "metadata": {},
   "outputs": [],
   "source": [
    "LSTM_45_72M = pd.read_csv(\"LSTM_4.5_72M_iterations.csv\")\n",
    "LSTM_45_12M = pd.read_csv(\"LSTM_4.5_12M_iterations.csv\")\n",
    "LSTM_45_6M = pd.read_csv(\"LSTM_4.5_6M_iterations.csv\")\n",
    "\n",
    "CNN_LSTM_45_72M = pd.read_csv(\"CNN_LSTM_4.5_72M_iterations.csv\")\n",
    "CNN_LSTM_45_12M = pd.read_csv(\"CNN_LSTM_4.5_12M_iterations.csv\")\n",
    "CNN_LSTM_45_6M = pd.read_csv(\"CNN_LSTM_4.5_6M_iterations.csv\")\n",
    "\n",
    "LSTM_6 = pd.read_csv(\"LSTM_6_iterations.csv\")\n",
    "CNN_LSTM_6 = pd.read_csv(\"CNN_LSTM_6_iterations.csv\")"
   ]
  }
 ],
 "metadata": {
  "kernelspec": {
   "display_name": "tflow",
   "language": "python",
   "name": "python3"
  },
  "language_info": {
   "codemirror_mode": {
    "name": "ipython",
    "version": 3
   },
   "file_extension": ".py",
   "mimetype": "text/x-python",
   "name": "python",
   "nbconvert_exporter": "python",
   "pygments_lexer": "ipython3",
   "version": "3.9.16"
  },
  "orig_nbformat": 4
 },
 "nbformat": 4,
 "nbformat_minor": 2
}
