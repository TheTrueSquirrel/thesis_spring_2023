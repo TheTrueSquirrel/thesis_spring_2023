{
 "cells": [
  {
   "attachments": {},
   "cell_type": "markdown",
   "metadata": {},
   "source": [
    "### create array"
   ]
  },
  {
   "cell_type": "code",
   "execution_count": 12,
   "metadata": {},
   "outputs": [
    {
     "name": "stdout",
     "output_type": "stream",
     "text": [
      "(18260, 10, 8, 4)\n",
      "(18260, 80)\n"
     ]
    }
   ],
   "source": [
    "import numpy as np\n",
    "import pandas as pd\n",
    "\n",
    "# Choose frequency, binsize, longitude, latitude\n",
    "freq = 'D'\n",
    "binsize = 5\n",
    "longitude_W = 134  # minimum is 134\n",
    "longitude_E = 174  # maximum is 174\n",
    "latitude_S = 10  # minimum is 10\n",
    "latitude_N = 60  # minimum is 60\n",
    "\n",
    "# load earthquake data for defined area\n",
    "data = pd.read_csv('data/Japan_10_60_134_174_1973_2023_V2.csv', index_col=0)\n",
    "data['Time'] = pd.to_datetime(data.Time)\n",
    "data = data[(data.Longitude >= longitude_W) & (data.Longitude <= longitude_E) & (data.Latitude >= latitude_S) & (data.Latitude <= latitude_N)]\n",
    "data.set_index('Time', inplace=True)\n",
    "df = data.sort_index()\n",
    "\n",
    "# Bin the longitude and latitude values into 2x2 degree bins\n",
    "df['Longitude_bin'] = pd.cut(df['Longitude'], bins=np.arange(longitude_W, longitude_E + 1, binsize))  # Change bin size to 2 degrees\n",
    "df['Latitude_bin'] = pd.cut(df['Latitude'], bins=np.arange(latitude_S, latitude_N + 1, binsize))  # Change bin size to 2 degrees\n",
    "\n",
    "# Group the data by longitude bin, latitude bin, depth bin, and day, and compute the maximum magnitude within each group\n",
    "grouped = df.groupby(['Longitude_bin', 'Latitude_bin', pd.Grouper(freq=freq, level=\"Time\")]).agg({'Magnitude': 'max', 'Depth': 'mean'})\n",
    "grouped = grouped.unstack().fillna(0)\n",
    "\n",
    "# Reshape the resulting data into a tensor with shape (time, longitude, latitude, 4)\n",
    "time = len(grouped.columns.levels[1])\n",
    "longitude = len(grouped.index.levels[0])\n",
    "latitude = len(grouped.index.levels[1])\n",
    "tensor = np.zeros((time, longitude, latitude, 4))\n",
    "\n",
    "for t in range(time):\n",
    "    tensor[t, :, :, 0] = grouped['Magnitude'].iloc[:, t].values.reshape(longitude, latitude)\n",
    "    tensor[t, :, :, 3] = grouped['Depth'].iloc[:, t].values.reshape(longitude, latitude)\n",
    "\n",
    "latitude_values = np.linspace(latitude_S, latitude_N - binsize, latitude) + binsize / 2\n",
    "longitude_values = np.linspace(longitude_W, longitude_E - binsize, longitude) + binsize / 2\n",
    "\n",
    "tensor[:, :, :, 1] = np.repeat(latitude_values, longitude).reshape(latitude, longitude).T\n",
    "tensor[:, :, :, 2] = np.tile(longitude_values, latitude).reshape(latitude, longitude).T\n",
    "\n",
    "# Rotate dimensions corresponding to 20 and 25, 90 degrees anti-clockwise\n",
    "tensor = np.transpose(tensor, axes=(0, 2, 1, 3))\n",
    "tensor = np.flip(tensor, axis=1)\n",
    "\n",
    "# Print the shape of the tensor\n",
    "print(tensor.shape)\n",
    "\n",
    "# Reshape tensor into matrix\n",
    "matrix = np.reshape(tensor[:,:,:,0], (tensor.shape[0], -1))\n",
    "# Keep only the columns with at least one number bigger than 0\n",
    "matrix = matrix[:, (matrix > 0).sum(axis=0) >= 0]\n",
    "print(matrix.shape)\n"
   ]
  },
  {
   "attachments": {},
   "cell_type": "markdown",
   "metadata": {},
   "source": [
    "### split the data"
   ]
  },
  {
   "cell_type": "code",
   "execution_count": 13,
   "metadata": {},
   "outputs": [],
   "source": [
    "from sklearn.model_selection import train_test_split\n",
    "\n",
    "# split data in train, val, test\n",
    "\n",
    "# Activate when only forecasting one region\n",
    "# matrix = np.reshape(matrix, (matrix.shape[0], matrix.shape[1], 1))\n",
    "\n",
    "train, val_test = train_test_split(tensor, test_size=.3, shuffle=False, random_state=43)\n",
    "val, test = train_test_split(val_test, test_size=.5, shuffle=False, random_state=43)"
   ]
  },
  {
   "attachments": {},
   "cell_type": "markdown",
   "metadata": {},
   "source": [
    "### create sliding window datasets"
   ]
  },
  {
   "cell_type": "code",
   "execution_count": 27,
   "metadata": {},
   "outputs": [
    {
     "name": "stdout",
     "output_type": "stream",
     "text": [
      "(354, 2160, 10, 8, 4) (354, 10, 8)\n",
      "(19, 2160, 10, 8, 4) (19, 10, 8)\n",
      "(19, 2160, 10, 8, 4) (19, 10, 8)\n"
     ]
    }
   ],
   "source": [
    "from tensorflow.keras.preprocessing import timeseries_dataset_from_array\n",
    "import tensorflow as tf\n",
    "\n",
    "def dataset_generator(data, seq_length, samp_rate, stride, cutoff):\n",
    "\n",
    "  input_data = data\n",
    "  target_data = data\n",
    "  dataset = timeseries_dataset_from_array(input_data, targets=None, sequence_length=seq_length, sampling_rate=samp_rate, sequence_stride=stride, shuffle=False, batch_size=len(data))\n",
    "\n",
    "  return dataset\n",
    "\n",
    "# Set lookback timewindow\n",
    "lookback_window = 30 * 72\n",
    "cutoff = 4.5\n",
    "future_timesteps = 30\n",
    "timewindow = lookback_window + future_timesteps\n",
    "samp_rate = 1\n",
    "stride = future_timesteps\n",
    "\n",
    "train_dataset = dataset_generator(train, timewindow, samp_rate, stride, cutoff)\n",
    "val_dataset = dataset_generator(val, timewindow, samp_rate, stride, cutoff)\n",
    "test_dataset = dataset_generator(test, timewindow, samp_rate, stride, cutoff)\n",
    "\n",
    "# Create train set\n",
    "for batch in train_dataset:\n",
    "    X_train = batch[:,:-future_timesteps,:,:]\n",
    "    # X_train = np.reshape(X_train, (X_train.shape[0], -1))\n",
    "\n",
    "    y_train = batch[:,-future_timesteps:,:,:,0] >= cutoff\n",
    "    y_train = np.max(y_train, axis=1).astype(int)\n",
    "    # y_train = np.reshape(y_train, (y_train.shape[0], 1, y_train.shape[1])).astype(int)\n",
    "\n",
    "# y_train = tf.reshape(y_train, shape=[y_train.shape[0], 1, y_train.shape[1]])\n",
    "\n",
    "# Collapse the depth dimension and converts all non-zero values to 1 and zero values to 0\n",
    "# y_train = tf.cast(tf.reduce_max(y_train, axis=2, keepdims=True) > 0, dtype=tf.int32)\n",
    "\n",
    "# Create validation set\n",
    "for batch in val_dataset:\n",
    "    X_val = batch[:,:-future_timesteps,:,:,:]\n",
    "    # X_val = np.reshape(X_val, (X_val.shape[0], -1))\n",
    "\n",
    "    y_val = batch[:,-future_timesteps:,:,:,0] >= cutoff\n",
    "    y_val = np.max(y_val, axis=1).astype(int)\n",
    "    # y_val = np.reshape(y_val, (y_val.shape[0], 1, y_val.shape[1])).astype(int)\n",
    "\n",
    "# y_val = tf.reshape(y_val, shape=[y_val.shape[0], 1, y_val.shape[1]])\n",
    "\n",
    "# Collapse the depth dimension and converts all non-zero values to 1 and zero values to 0\n",
    "# y_val = tf.cast(tf.reduce_max(y_val, axis=2, keepdims=True) > 0, dtype=tf.int32)\n",
    "\n",
    "# Create test set\n",
    "for batch in test_dataset:\n",
    "    X_test = batch[:,:-future_timesteps,:,:,:]\n",
    "    # X_test = np.reshape(X_test, (X_test.shape[0], -1))\n",
    "\n",
    "    y_test = batch[:,-future_timesteps:,:,:,0] >= cutoff\n",
    "    y_test = np.max(y_test, axis=1).astype(int)\n",
    "    # y_test = np.reshape(y_test, (y_test.shape[0], 1, y_test.shape[1])).astype(int)\n",
    "\n",
    "# y_test = tf.reshape(y_test, shape=[y_test.shape[0], 1, y_test.shape[1]])\n",
    "\n",
    "# Collapse the depth dimension and converts all non-zero values to 1 and zero values to 0\n",
    "# y_test = tf.cast(tf.reduce_max(y_test, axis=2, keepdims=True) > 0, dtype=tf.int32)\n",
    "\n",
    "################################# Use for MLP\n",
    "# Flatten 1 and 2 dimensions of X's for multivariate MLP\n",
    "# X_train = np.reshape(X_train, (X_train.shape[0],-1))\n",
    "# X_val = np.reshape(X_val, (X_val.shape[0],-1))\n",
    "# X_test = np.reshape(X_test, (X_test.shape[0],-1))\n",
    "\n",
    "print(X_train.shape, y_train.shape)\n",
    "print(X_val.shape, y_val.shape)\n",
    "print(X_test.shape, y_test.shape)"
   ]
  },
  {
   "attachments": {},
   "cell_type": "markdown",
   "metadata": {},
   "source": [
    "### LSTM model build"
   ]
  },
  {
   "cell_type": "code",
   "execution_count": 18,
   "metadata": {},
   "outputs": [
    {
     "name": "stdout",
     "output_type": "stream",
     "text": [
      "Model: \"sequential\"\n",
      "_________________________________________________________________\n",
      " Layer (type)                Output Shape              Param #   \n",
      "=================================================================\n",
      " batch_normalization (BatchN  (354, 2160, 10, 8, 4)    16        \n",
      " ormalization)                                                   \n",
      "                                                                 \n",
      " time_distributed (TimeDistr  (354, 2160, 10, 8, 64)   2368      \n",
      " ibuted)                                                         \n",
      "                                                                 \n",
      " time_distributed_1 (TimeDis  (354, 2160, 5, 4, 64)    0         \n",
      " tributed)                                                       \n",
      "                                                                 \n",
      " time_distributed_2 (TimeDis  (354, 2160, 1280)        0         \n",
      " tributed)                                                       \n",
      "                                                                 \n",
      " batch_normalization_1 (Batc  (354, 2160, 1280)        5120      \n",
      " hNormalization)                                                 \n",
      "                                                                 \n",
      " lstm (LSTM)                 (354, 2160, 64)           344320    \n",
      "                                                                 \n",
      " batch_normalization_2 (Batc  (354, 2160, 64)          256       \n",
      " hNormalization)                                                 \n",
      "                                                                 \n",
      " lstm_1 (LSTM)               (354, 64)                 33024     \n",
      "                                                                 \n",
      " batch_normalization_3 (Batc  (354, 64)                256       \n",
      " hNormalization)                                                 \n",
      "                                                                 \n",
      " dense (Dense)               (354, 80)                 5200      \n",
      "                                                                 \n",
      " reshape (Reshape)           (354, 10, 8)              0         \n",
      "                                                                 \n",
      "=================================================================\n",
      "Total params: 390,560\n",
      "Trainable params: 387,736\n",
      "Non-trainable params: 2,824\n",
      "_________________________________________________________________\n"
     ]
    }
   ],
   "source": [
    "import tensorflow as tf\n",
    "from tensorflow.keras.models import Sequential\n",
    "from tensorflow.keras.layers import (LSTM, Dense, Flatten, Input, TimeDistributed, Dropout, RepeatVector, \n",
    "                                     BatchNormalization, Conv2D, MaxPooling2D, Reshape)\n",
    "from tensorflow.keras.utils import plot_model\n",
    "import pandas as pd\n",
    "import numpy as np\n",
    "import keras\n",
    "from keras.callbacks import EarlyStopping\n",
    "from keras import regularizers\n",
    "from keras import backend as K\n",
    "\n",
    "keras.backend.clear_session()\n",
    "\n",
    "# define model\n",
    "model = Sequential()\n",
    "\n",
    "# Add CNN layers\n",
    "model.add(BatchNormalization())\n",
    "model.add(TimeDistributed(Conv2D(64, (3, 3), activation='relu', padding='same'), input_shape=(X_train.shape[1:])))\n",
    "model.add(TimeDistributed(MaxPooling2D(pool_size=(2, 2))))\n",
    "model.add(TimeDistributed(Flatten()))\n",
    "\n",
    "model.add(BatchNormalization())\n",
    "\n",
    "# LSTM layers\n",
    "model.add(LSTM(64, activation='tanh',\n",
    "               return_sequences=True,\n",
    "               kernel_regularizer=regularizers.L1L2(l1=1e-4, l2=1e-4),\n",
    "               bias_regularizer=regularizers.L1L2(l1=1e-4, l2=1e-4),\n",
    "               dropout=0.4,\n",
    "               ))\n",
    "               \n",
    "model.add(BatchNormalization())\n",
    "\n",
    "model.add(LSTM(64, activation='tanh', return_sequences=False))\n",
    "model.add(BatchNormalization())\n",
    "\n",
    "# Reshape to match the target shape\n",
    "model.add(Dense(y_train.shape[1]*y_train.shape[2], activation=\"sigmoid\"))\n",
    "model.add(Reshape((y_train.shape[1], y_train.shape[2])))\n",
    "\n",
    "opt = keras.optimizers.Adam(learning_rate=0.001)\n",
    "loss = tf.keras.losses.BinaryFocalCrossentropy( apply_class_balancing=True, alpha=.7, gamma=1)\n",
    "model.compile(optimizer=opt, loss=loss, metrics=[keras.metrics.Precision(), keras.metrics.Recall()])\n",
    "\n",
    "# Build and display the model summary\n",
    "model.build(input_shape=X_train.shape)\n",
    "model.summary()\n"
   ]
  },
  {
   "attachments": {},
   "cell_type": "markdown",
   "metadata": {},
   "source": [
    "### fit model"
   ]
  },
  {
   "cell_type": "code",
   "execution_count": 19,
   "metadata": {},
   "outputs": [
    {
     "name": "stdout",
     "output_type": "stream",
     "text": [
      "Epoch 1/500\n",
      "3/3 [==============================] - 55s 16s/step - loss: 1.2365 - precision: 0.1938 - recall: 0.4928 - val_loss: 1.1360 - val_precision: 0.2606 - val_recall: 0.5028\n",
      "Epoch 2/500\n",
      "3/3 [==============================] - 50s 16s/step - loss: 1.1449 - precision: 0.2023 - recall: 0.5137 - val_loss: 1.0590 - val_precision: 0.3009 - val_recall: 0.5763\n",
      "Epoch 3/500\n",
      "3/3 [==============================] - 49s 15s/step - loss: 1.0590 - precision: 0.2094 - recall: 0.5313 - val_loss: 0.9837 - val_precision: 0.2727 - val_recall: 0.5424\n",
      "Epoch 4/500\n",
      "3/3 [==============================] - 49s 15s/step - loss: 0.9786 - precision: 0.2098 - recall: 0.5307 - val_loss: 0.9109 - val_precision: 0.2632 - val_recall: 0.5650\n",
      "Epoch 5/500\n",
      "3/3 [==============================] - 50s 16s/step - loss: 0.9018 - precision: 0.2161 - recall: 0.5460 - val_loss: 0.8410 - val_precision: 0.2600 - val_recall: 0.5876\n",
      "Epoch 6/500\n",
      "3/3 [==============================] - 49s 15s/step - loss: 0.8291 - precision: 0.2216 - recall: 0.5562 - val_loss: 0.7746 - val_precision: 0.2724 - val_recall: 0.5593\n",
      "Epoch 7/500\n",
      "3/3 [==============================] - 51s 16s/step - loss: 0.7601 - precision: 0.2284 - recall: 0.5722 - val_loss: 0.7116 - val_precision: 0.2647 - val_recall: 0.5339\n",
      "Epoch 8/500\n",
      "3/3 [==============================] - 48s 15s/step - loss: 0.6951 - precision: 0.2363 - recall: 0.5835 - val_loss: 0.6515 - val_precision: 0.2907 - val_recall: 0.5650\n",
      "Epoch 9/500\n",
      "3/3 [==============================] - 50s 16s/step - loss: 0.6340 - precision: 0.2456 - recall: 0.6058 - val_loss: 0.5945 - val_precision: 0.3362 - val_recall: 0.6554\n",
      "Epoch 10/500\n",
      "3/3 [==============================] - 50s 16s/step - loss: 0.5764 - precision: 0.2523 - recall: 0.6164 - val_loss: 0.5408 - val_precision: 0.3449 - val_recall: 0.6751\n",
      "Epoch 11/500\n",
      "3/3 [==============================] - 50s 16s/step - loss: 0.5225 - precision: 0.2614 - recall: 0.6321 - val_loss: 0.4908 - val_precision: 0.3890 - val_recall: 0.7768\n",
      "Epoch 12/500\n",
      "3/3 [==============================] - 51s 16s/step - loss: 0.4728 - precision: 0.2672 - recall: 0.6410 - val_loss: 0.4439 - val_precision: 0.4448 - val_recall: 0.8418\n",
      "Epoch 13/500\n",
      "3/3 [==============================] - 49s 15s/step - loss: 0.4267 - precision: 0.2803 - recall: 0.6619 - val_loss: 0.4001 - val_precision: 0.4662 - val_recall: 0.8192\n",
      "Epoch 14/500\n",
      "3/3 [==============================] - 49s 15s/step - loss: 0.3839 - precision: 0.2908 - recall: 0.6784 - val_loss: 0.3609 - val_precision: 0.4603 - val_recall: 0.8192\n",
      "Epoch 15/500\n",
      "3/3 [==============================] - 49s 16s/step - loss: 0.3452 - precision: 0.3046 - recall: 0.7009 - val_loss: 0.3250 - val_precision: 0.4852 - val_recall: 0.8333\n",
      "Epoch 16/500\n",
      "3/3 [==============================] - 49s 16s/step - loss: 0.3101 - precision: 0.3161 - recall: 0.7176 - val_loss: 0.2926 - val_precision: 0.5543 - val_recall: 0.8220\n",
      "Epoch 17/500\n",
      "3/3 [==============================] - 52s 16s/step - loss: 0.2790 - precision: 0.3298 - recall: 0.7253 - val_loss: 0.2641 - val_precision: 0.5470 - val_recall: 0.8220\n",
      "Epoch 18/500\n",
      "3/3 [==============================] - 54s 17s/step - loss: 0.2514 - precision: 0.3481 - recall: 0.7470 - val_loss: 0.2397 - val_precision: 0.5501 - val_recall: 0.8220\n",
      "Epoch 19/500\n",
      "3/3 [==============================] - 50s 15s/step - loss: 0.2277 - precision: 0.3674 - recall: 0.7682 - val_loss: 0.2193 - val_precision: 0.5891 - val_recall: 0.8220\n",
      "Epoch 20/500\n",
      "3/3 [==============================] - 51s 16s/step - loss: 0.2080 - precision: 0.3848 - recall: 0.7824 - val_loss: 0.2028 - val_precision: 0.6037 - val_recall: 0.8220\n",
      "Epoch 21/500\n",
      "3/3 [==============================] - 48s 15s/step - loss: 0.1916 - precision: 0.4079 - recall: 0.8052 - val_loss: 0.1895 - val_precision: 0.6954 - val_recall: 0.8192\n",
      "Epoch 22/500\n",
      "3/3 [==============================] - 52s 16s/step - loss: 0.1790 - precision: 0.4333 - recall: 0.8166 - val_loss: 0.1790 - val_precision: 0.7146 - val_recall: 0.8418\n",
      "Epoch 23/500\n",
      "3/3 [==============================] - 51s 16s/step - loss: 0.1688 - precision: 0.4537 - recall: 0.8340 - val_loss: 0.1694 - val_precision: 0.7129 - val_recall: 0.8418\n",
      "Epoch 24/500\n",
      "3/3 [==============================] - 51s 16s/step - loss: 0.1599 - precision: 0.4788 - recall: 0.8484 - val_loss: 0.1603 - val_precision: 0.7129 - val_recall: 0.8418\n",
      "Epoch 25/500\n",
      "3/3 [==============================] - 51s 16s/step - loss: 0.1509 - precision: 0.5054 - recall: 0.8617 - val_loss: 0.1515 - val_precision: 0.7469 - val_recall: 0.8418\n",
      "Epoch 26/500\n",
      "3/3 [==============================] - 50s 16s/step - loss: 0.1428 - precision: 0.5345 - recall: 0.8735 - val_loss: 0.1439 - val_precision: 0.7500 - val_recall: 0.8729\n",
      "Epoch 27/500\n",
      "3/3 [==============================] - 50s 16s/step - loss: 0.1358 - precision: 0.5558 - recall: 0.8847 - val_loss: 0.1378 - val_precision: 0.7744 - val_recall: 0.8729\n",
      "Epoch 28/500\n",
      "3/3 [==============================] - 49s 15s/step - loss: 0.1295 - precision: 0.5834 - recall: 0.8886 - val_loss: 0.1325 - val_precision: 0.7744 - val_recall: 0.8729\n",
      "Epoch 29/500\n",
      "3/3 [==============================] - 49s 15s/step - loss: 0.1238 - precision: 0.6131 - recall: 0.8997 - val_loss: 0.1271 - val_precision: 0.7744 - val_recall: 0.8729\n",
      "Epoch 30/500\n",
      "3/3 [==============================] - 48s 15s/step - loss: 0.1185 - precision: 0.6335 - recall: 0.9102 - val_loss: 0.1221 - val_precision: 0.7744 - val_recall: 0.8729\n",
      "Epoch 31/500\n",
      "3/3 [==============================] - 50s 16s/step - loss: 0.1139 - precision: 0.6567 - recall: 0.9111 - val_loss: 0.1189 - val_precision: 0.7744 - val_recall: 0.8729\n",
      "Epoch 32/500\n",
      "3/3 [==============================] - 49s 15s/step - loss: 0.1098 - precision: 0.6743 - recall: 0.9233 - val_loss: 0.1127 - val_precision: 0.7832 - val_recall: 0.8672\n",
      "Epoch 33/500\n",
      "3/3 [==============================] - 50s 16s/step - loss: 0.1064 - precision: 0.6833 - recall: 0.9179 - val_loss: 0.1113 - val_precision: 0.7744 - val_recall: 0.8729\n",
      "Epoch 34/500\n",
      "3/3 [==============================] - 49s 16s/step - loss: 0.1032 - precision: 0.7068 - recall: 0.9240 - val_loss: 0.1072 - val_precision: 0.7826 - val_recall: 0.8644\n",
      "Epoch 35/500\n",
      "3/3 [==============================] - 51s 16s/step - loss: 0.1000 - precision: 0.7124 - recall: 0.9267 - val_loss: 0.1061 - val_precision: 0.7974 - val_recall: 0.8559\n",
      "Epoch 36/500\n",
      "3/3 [==============================] - 49s 15s/step - loss: 0.0966 - precision: 0.7381 - recall: 0.9310 - val_loss: 0.1025 - val_precision: 0.7974 - val_recall: 0.8559\n",
      "Epoch 37/500\n",
      "3/3 [==============================] - 50s 16s/step - loss: 0.0935 - precision: 0.7434 - recall: 0.9351 - val_loss: 0.1001 - val_precision: 0.7974 - val_recall: 0.8559\n",
      "Epoch 38/500\n",
      "3/3 [==============================] - 49s 15s/step - loss: 0.0906 - precision: 0.7487 - recall: 0.9337 - val_loss: 0.0994 - val_precision: 0.7974 - val_recall: 0.8559\n",
      "Epoch 39/500\n",
      "3/3 [==============================] - 49s 15s/step - loss: 0.0877 - precision: 0.7542 - recall: 0.9323 - val_loss: 0.0945 - val_precision: 0.7974 - val_recall: 0.8559\n",
      "Epoch 40/500\n",
      "3/3 [==============================] - 49s 16s/step - loss: 0.0850 - precision: 0.7611 - recall: 0.9359 - val_loss: 0.0943 - val_precision: 0.7974 - val_recall: 0.8559\n",
      "Epoch 41/500\n",
      "3/3 [==============================] - 49s 16s/step - loss: 0.0828 - precision: 0.7630 - recall: 0.9360 - val_loss: 0.0909 - val_precision: 0.7744 - val_recall: 0.8729\n",
      "Epoch 42/500\n",
      "3/3 [==============================] - 53s 16s/step - loss: 0.0808 - precision: 0.7669 - recall: 0.9386 - val_loss: 0.0886 - val_precision: 0.7974 - val_recall: 0.8559\n",
      "Epoch 43/500\n",
      "3/3 [==============================] - 49s 15s/step - loss: 0.0787 - precision: 0.7731 - recall: 0.9378 - val_loss: 0.0880 - val_precision: 0.7974 - val_recall: 0.8559\n",
      "Epoch 44/500\n",
      "3/3 [==============================] - 49s 15s/step - loss: 0.0764 - precision: 0.7776 - recall: 0.9387 - val_loss: 0.0854 - val_precision: 0.8006 - val_recall: 0.8164\n",
      "Epoch 45/500\n",
      "3/3 [==============================] - 49s 15s/step - loss: 0.0744 - precision: 0.7806 - recall: 0.9386 - val_loss: 0.0848 - val_precision: 0.7963 - val_recall: 0.8503\n",
      "Epoch 46/500\n",
      "3/3 [==============================] - 49s 15s/step - loss: 0.0721 - precision: 0.7828 - recall: 0.9434 - val_loss: 0.0822 - val_precision: 0.7979 - val_recall: 0.8475\n",
      "Epoch 47/500\n",
      "3/3 [==============================] - 49s 15s/step - loss: 0.0702 - precision: 0.7823 - recall: 0.9432 - val_loss: 0.0810 - val_precision: 0.7995 - val_recall: 0.8446\n",
      "Epoch 48/500\n",
      "3/3 [==============================] - 49s 15s/step - loss: 0.0683 - precision: 0.7854 - recall: 0.9436 - val_loss: 0.0795 - val_precision: 0.8000 - val_recall: 0.8249\n",
      "Epoch 49/500\n",
      "3/3 [==============================] - 50s 16s/step - loss: 0.0670 - precision: 0.7850 - recall: 0.9466 - val_loss: 0.0791 - val_precision: 0.8011 - val_recall: 0.8192\n",
      "Epoch 50/500\n",
      "3/3 [==============================] - 49s 15s/step - loss: 0.0660 - precision: 0.7850 - recall: 0.9427 - val_loss: 0.0795 - val_precision: 0.8118 - val_recall: 0.8164\n",
      "Epoch 51/500\n",
      "3/3 [==============================] - 49s 15s/step - loss: 0.0651 - precision: 0.7819 - recall: 0.9425 - val_loss: 0.0779 - val_precision: 0.7989 - val_recall: 0.8192\n",
      "Epoch 52/500\n",
      "3/3 [==============================] - 49s 15s/step - loss: 0.0639 - precision: 0.7902 - recall: 0.9441 - val_loss: 0.0777 - val_precision: 0.8006 - val_recall: 0.8164\n",
      "Epoch 53/500\n",
      "3/3 [==============================] - 49s 15s/step - loss: 0.0630 - precision: 0.7908 - recall: 0.9425 - val_loss: 0.0770 - val_precision: 0.8006 - val_recall: 0.8164\n",
      "Epoch 54/500\n",
      "3/3 [==============================] - 49s 15s/step - loss: 0.0617 - precision: 0.7887 - recall: 0.9468 - val_loss: 0.0751 - val_precision: 0.7974 - val_recall: 0.8559\n",
      "Epoch 55/500\n",
      "3/3 [==============================] - 51s 16s/step - loss: 0.0604 - precision: 0.7944 - recall: 0.9470 - val_loss: 0.0750 - val_precision: 0.8216 - val_recall: 0.7938\n",
      "Epoch 56/500\n",
      "3/3 [==============================] - 51s 16s/step - loss: 0.0593 - precision: 0.7945 - recall: 0.9483 - val_loss: 0.0745 - val_precision: 0.8000 - val_recall: 0.8475\n",
      "Epoch 57/500\n",
      "3/3 [==============================] - 49s 15s/step - loss: 0.0587 - precision: 0.7937 - recall: 0.9465 - val_loss: 0.0748 - val_precision: 0.7973 - val_recall: 0.8220\n",
      "Epoch 58/500\n",
      "3/3 [==============================] - 49s 15s/step - loss: 0.0582 - precision: 0.7967 - recall: 0.9447 - val_loss: 0.0736 - val_precision: 0.8017 - val_recall: 0.8220\n",
      "Epoch 59/500\n",
      "3/3 [==============================] - 52s 16s/step - loss: 0.0575 - precision: 0.7956 - recall: 0.9466 - val_loss: 0.0732 - val_precision: 0.8011 - val_recall: 0.8192\n",
      "Epoch 60/500\n",
      "3/3 [==============================] - 49s 15s/step - loss: 0.0569 - precision: 0.7960 - recall: 0.9484 - val_loss: 0.0731 - val_precision: 0.8232 - val_recall: 0.8023\n",
      "Epoch 61/500\n",
      "3/3 [==============================] - 50s 15s/step - loss: 0.0558 - precision: 0.8013 - recall: 0.9529 - val_loss: 0.0731 - val_precision: 0.8232 - val_recall: 0.8023\n",
      "Epoch 62/500\n",
      "3/3 [==============================] - 49s 15s/step - loss: 0.0549 - precision: 0.8049 - recall: 0.9549 - val_loss: 0.0725 - val_precision: 0.8222 - val_recall: 0.7966\n",
      "Epoch 63/500\n",
      "3/3 [==============================] - 48s 15s/step - loss: 0.0542 - precision: 0.8064 - recall: 0.9527 - val_loss: 0.0723 - val_precision: 0.8028 - val_recall: 0.8164\n",
      "Epoch 64/500\n",
      "3/3 [==============================] - 48s 15s/step - loss: 0.0539 - precision: 0.8032 - recall: 0.9519 - val_loss: 0.0728 - val_precision: 0.8208 - val_recall: 0.8023\n",
      "Epoch 65/500\n",
      "3/3 [==============================] - 48s 15s/step - loss: 0.0533 - precision: 0.8084 - recall: 0.9506 - val_loss: 0.0721 - val_precision: 0.8006 - val_recall: 0.8164\n",
      "Epoch 66/500\n",
      "3/3 [==============================] - 51s 16s/step - loss: 0.0530 - precision: 0.8081 - recall: 0.9545 - val_loss: 0.0713 - val_precision: 0.8174 - val_recall: 0.8220\n",
      "Epoch 67/500\n",
      "3/3 [==============================] - 50s 16s/step - loss: 0.0527 - precision: 0.8129 - recall: 0.9531 - val_loss: 0.0714 - val_precision: 0.8011 - val_recall: 0.8192\n",
      "Epoch 68/500\n",
      "3/3 [==============================] - 50s 15s/step - loss: 0.0520 - precision: 0.8113 - recall: 0.9563 - val_loss: 0.0720 - val_precision: 0.8028 - val_recall: 0.8164\n",
      "Epoch 69/500\n",
      "3/3 [==============================] - 50s 15s/step - loss: 0.0512 - precision: 0.8175 - recall: 0.9608 - val_loss: 0.0724 - val_precision: 0.8028 - val_recall: 0.8164\n"
     ]
    }
   ],
   "source": [
    "# early stopping\n",
    "callback = EarlyStopping(monitor='val_loss', patience=3)\n",
    "# fit model\n",
    "history = model.fit(x=X_train,\n",
    "                    y=y_train,\n",
    "                    validation_data=(X_val,y_val),\n",
    "                    batch_size=128,\n",
    "                    epochs=500,\n",
    "                    verbose=1,\n",
    "                    callbacks=[callback],\n",
    "                    shuffle=False)"
   ]
  },
  {
   "cell_type": "code",
   "execution_count": 20,
   "metadata": {},
   "outputs": [
    {
     "name": "stderr",
     "output_type": "stream",
     "text": [
      "WARNING:absl:Found untraced functions such as _jit_compiled_convolution_op, lstm_cell_layer_call_fn, lstm_cell_layer_call_and_return_conditional_losses, lstm_cell_1_layer_call_fn, lstm_cell_1_layer_call_and_return_conditional_losses while saving (showing 5 of 5). These functions will not be directly callable after loading.\n"
     ]
    },
    {
     "name": "stdout",
     "output_type": "stream",
     "text": [
      "INFO:tensorflow:Assets written to: models/CNN_LSTM_5x5_72M_1M_M4.5/assets\n"
     ]
    },
    {
     "name": "stderr",
     "output_type": "stream",
     "text": [
      "INFO:tensorflow:Assets written to: models/CNN_LSTM_5x5_72M_1M_M4.5/assets\n"
     ]
    }
   ],
   "source": [
    "model.save('models/CNN_LSTM_5x5_72M_1M_M4.5')"
   ]
  },
  {
   "cell_type": "code",
   "execution_count": 21,
   "metadata": {},
   "outputs": [],
   "source": [
    "model = keras.models.load_model('models/CNN_LSTM_5x5_72M_1M_M4.5')"
   ]
  },
  {
   "attachments": {},
   "cell_type": "markdown",
   "metadata": {},
   "source": [
    "### predict"
   ]
  },
  {
   "cell_type": "code",
   "execution_count": 26,
   "metadata": {},
   "outputs": [
    {
     "name": "stdout",
     "output_type": "stream",
     "text": [
      "1/1 [==============================] - 1s 598ms/step\n"
     ]
    }
   ],
   "source": [
    "y_pred = model.predict(X_test)"
   ]
  },
  {
   "attachments": {},
   "cell_type": "markdown",
   "metadata": {},
   "source": [
    "### evaluation metrics"
   ]
  },
  {
   "cell_type": "code",
   "execution_count": 28,
   "metadata": {},
   "outputs": [
    {
     "name": "stdout",
     "output_type": "stream",
     "text": [
      "Accuracy: 0.910526\n",
      "Precision: 0.804469\n",
      "Recall: 0.813559\n",
      "F1 score: 0.808989\n",
      "              precision    recall  f1-score   support\n",
      "\n",
      "       M<4.5       0.94      0.94      0.94      1166\n",
      "      M>=4.5       0.80      0.81      0.81       354\n",
      "\n",
      "    accuracy                           0.91      1520\n",
      "   macro avg       0.87      0.88      0.88      1520\n",
      "weighted avg       0.91      0.91      0.91      1520\n",
      "\n",
      "zeroR: 0.9775\n"
     ]
    }
   ],
   "source": [
    "from sklearn.metrics import accuracy_score\n",
    "from sklearn.metrics import precision_score\n",
    "from sklearn.metrics import recall_score\n",
    "from sklearn.metrics import f1_score\n",
    "from sklearn.metrics import classification_report\n",
    "# y_val = y_test\n",
    "# accuracy: (tp + tn) / (p + n)\n",
    "accuracy = accuracy_score(np.array(y_val).flatten(), y_pred.flatten() >= .5)\n",
    "print('Accuracy: %f' % accuracy)\n",
    "# precision tp / (tp + fp)\n",
    "precision = precision_score(np.array(y_val).flatten(), y_pred.flatten() >= .5)\n",
    "print('Precision: %f' % precision)\n",
    "# recall: tp / (tp + fn)\n",
    "recall = recall_score(np.array(y_val).flatten(), y_pred.flatten() >= .5)\n",
    "print('Recall: %f' % recall)\n",
    "# f1: 2 tp / (2 tp + fp + fn)\n",
    "f1 = f1_score(np.array(y_val).flatten(), y_pred.flatten() >= .5)\n",
    "print('F1 score: %f' % f1)\n",
    "\n",
    "class_names = ['M<4.5', 'M>=4.5']\n",
    "\n",
    "print(classification_report(np.array(y_val).flatten(), y_pred.flatten() >= .5, target_names=class_names))\n",
    "\n",
    "# Calculate the proportion of the majority per row, column combination over all batches\n",
    "majority_prop = np.mean(val[:,:,:,0] >= cutoff, axis=0)[:]\n",
    "\n",
    "# Calculate the complement for values lower than 0.5\n",
    "majority_prop = np.where(majority_prop < 0.5, 1 - majority_prop, majority_prop)\n",
    "zeroR = majority_prop.mean()\n",
    "\n",
    "print(\"zeroR:\", round(zeroR,4))"
   ]
  },
  {
   "attachments": {},
   "cell_type": "markdown",
   "metadata": {},
   "source": [
    "### confusion matrix"
   ]
  },
  {
   "cell_type": "code",
   "execution_count": 29,
   "metadata": {},
   "outputs": [
    {
     "data": {
      "image/png": "[encoded data removed]",
      "text/plain": [
       "<Figure size 500x500 with 2 Axes>"
      ]
     },
     "metadata": {},
     "output_type": "display_data"
    }
   ],
   "source": [
    "import seaborn as sns\n",
    "import matplotlib.pyplot as plt\n",
    "from sklearn.metrics import confusion_matrix\n",
    "sns.set(rc={'figure.figsize':(5,5)})\n",
    "p = sns.heatmap(confusion_matrix(np.array(y_val).flatten(), y_pred.flatten() >= 0.5), annot=True, fmt='g')\n",
    "p.set_xlabel(\"Predicted\")\n",
    "p.set_ylabel(\"True\")\n",
    "p.set_title(\"CNN-LSTM\")\n",
    "p.xaxis.set_ticklabels(['M<4.5', 'M>=4.5'], ha=\"center\", va=\"center\")\n",
    "p.yaxis.set_ticklabels(['M<4.5', 'M>=4.5'], rotation=0, va=\"center\")\n",
    "plt.savefig(\"graphs/CM_CNN_LSTM_5x5_1M_M45\")"
   ]
  },
  {
   "attachments": {},
   "cell_type": "markdown",
   "metadata": {},
   "source": [
    "### ROC curve"
   ]
  },
  {
   "cell_type": "code",
   "execution_count": 30,
   "metadata": {},
   "outputs": [
    {
     "data": {
      "image/png": "[encoded data removed]",
      "text/plain": [
       "<Figure size 500x500 with 1 Axes>"
      ]
     },
     "metadata": {},
     "output_type": "display_data"
    }
   ],
   "source": [
    "import matplotlib.pyplot as plt\n",
    "from sklearn.metrics import roc_curve, auc\n",
    "\n",
    "# y_pred = scaler.inverse_transform(y_prob)\n",
    "# y_test = scaler.inverse_transform(y)\n",
    "\n",
    "# Compute micro-average ROC curve and ROC area\n",
    "fpr, tpr, _ = roc_curve(np.array(y_val).flatten(), y_pred.flatten())\n",
    "roc_auc = auc(fpr, tpr)\n",
    "\n",
    "# Plot micro-average ROC curve\n",
    "plt.figure(figsize=(5,5))\n",
    "plt.plot(fpr, tpr, label='ROC curve (area = {0:0.2f})'\n",
    "        ''.format(roc_auc), color='blue', linewidth=1)\n",
    "\n",
    "plt.plot([0, 1], [0, 1], 'k--', linewidth=1)\n",
    "plt.xlim([0.0, 1.0])\n",
    "plt.ylim([0.0, 1.05])\n",
    "plt.xlabel('False Positive Rate')\n",
    "plt.ylabel('True Positive Rate')\n",
    "plt.title('ROC Curve')\n",
    "plt.legend(loc=\"lower right\")\n",
    "# plt.savefig(savefig)\n",
    "plt.show()"
   ]
  },
  {
   "attachments": {},
   "cell_type": "markdown",
   "metadata": {},
   "source": [
    "### PR curve"
   ]
  },
  {
   "cell_type": "code",
   "execution_count": 31,
   "metadata": {},
   "outputs": [
    {
     "data": {
      "image/png": "[encoded data removed]",
      "text/plain": [
       "<Figure size 500x500 with 1 Axes>"
      ]
     },
     "metadata": {},
     "output_type": "display_data"
    }
   ],
   "source": [
    "from sklearn.metrics import precision_recall_curve\n",
    "from sklearn.metrics import auc, f1_score\n",
    "import matplotlib.pyplot as plt\n",
    "\n",
    "precision, recall, _ = precision_recall_curve(np.array(y_val).flatten(), y_pred.flatten())\n",
    "auc = auc(recall, precision)\n",
    "\n",
    "# Calculate the proportion of the majority per row, column combination over all batches\n",
    "majority_prop = np.mean(test >= cutoff, axis=0)[:]\n",
    "\n",
    "# Calculate the complement for values lower than 0.5\n",
    "majority_prop = np.where(majority_prop < 0.5, 1 - majority_prop, majority_prop)\n",
    "zeroR = majority_prop.mean()\n",
    "\n",
    "# plot the precision-recall curves\n",
    "no_skill = (np.array(y_val).flatten()).sum() / len(np.array(y_val).flatten())\n",
    "plt.plot([0, 1], [no_skill,no_skill], linestyle='--', label='positive class = %.3f' % (no_skill))\n",
    "plt.plot(recall, precision, label='PR_curve, AUC = %.3f' % (auc))\n",
    "# axis labels\n",
    "plt.xlabel('Recall')\n",
    "plt.ylabel('Precision')\n",
    "plt.title('PR Curve')\n",
    "# show the legend\n",
    "plt.legend()\n",
    "# show the plot\n",
    "plt.show()"
   ]
  },
  {
   "attachments": {},
   "cell_type": "markdown",
   "metadata": {},
   "source": [
    "### plot predicted against true"
   ]
  },
  {
   "cell_type": "code",
   "execution_count": null,
   "metadata": {},
   "outputs": [],
   "source": [
    "import seaborn as sns\n",
    "import matplotlib.pyplot as plt\n",
    "\n",
    "# Reshape data to grid\n",
    "y_pred = np.reshape(y_pred, (y_pred.shape[0], tensor.shape[1], tensor.shape[2]))\n",
    "true = np.reshape(y_val, (y_val.shape[0], tensor.shape[1], tensor.shape[2]))\n",
    "\n",
    "# Choose timesteps to plot\n",
    "timestep = 8\n",
    "\n",
    "\n",
    "# Extract the data for the chosen timesteps from the tensor\n",
    "data1 = y_pred[timestep, :, :] \n",
    "data2 = true[timestep, :, :]\n",
    "\n",
    "# Create a figure with two subplots\n",
    "fig, (ax1, ax2) = plt.subplots(ncols=2, figsize=(8, 4))\n",
    "\n",
    "# Plot the data in each subplot\n",
    "sns.heatmap(data1, cmap='viridis', vmin=0, vmax=1, linewidths=0.5, linecolor='grey', annot=False, ax=ax1)\n",
    "sns.heatmap(data2, cmap='viridis', vmin=0, vmax=1, linewidths=0.5, linecolor='grey', annot=False, ax=ax2)\n",
    "\n",
    "# Set the plot titles and axis labels\n",
    "ax1.set_title(f'Predicted {cutoff} magnitude at timestep {timestep}')\n",
    "ax1.set_xlabel('Longitude bin')\n",
    "ax1.set_ylabel('Latitude bin')\n",
    "\n",
    "ax2.set_title(f'True {cutoff} magnitude at timestep {timestep}')\n",
    "ax2.set_xlabel('Longitude bin')\n",
    "ax2.set_ylabel('Latitude bin')\n",
    "\n",
    "# Show the plot\n",
    "plt.show()"
   ]
  },
  {
   "cell_type": "code",
   "execution_count": null,
   "metadata": {},
   "outputs": [],
   "source": []
  }
 ],
 "metadata": {
  "kernelspec": {
   "display_name": "tflow",
   "language": "python",
   "name": "python3"
  },
  "language_info": {
   "codemirror_mode": {
    "name": "ipython",
    "version": 3
   },
   "file_extension": ".py",
   "mimetype": "text/x-python",
   "name": "python",
   "nbconvert_exporter": "python",
   "pygments_lexer": "ipython3",
   "version": "3.9.16"
  },
  "orig_nbformat": 4
 },
 "nbformat": 4,
 "nbformat_minor": 2
}
