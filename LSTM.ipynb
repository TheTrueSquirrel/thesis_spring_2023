{
 "cells": [
  {
   "attachments": {},
   "cell_type": "markdown",
   "metadata": {},
   "source": [
    "### create array"
   ]
  },
  {
   "cell_type": "code",
   "execution_count": 10,
   "metadata": {},
   "outputs": [
    {
     "name": "stdout",
     "output_type": "stream",
     "text": [
      "(18260, 10, 8, 4)\n",
      "(18260, 80)\n"
     ]
    }
   ],
   "source": [
    "import numpy as np\n",
    "import pandas as pd\n",
    "\n",
    "# Choose frequency, binsize, longitude, latitude\n",
    "freq = 'D'\n",
    "binsize = 5\n",
    "longitude_W = 134  # minimum is 134\n",
    "longitude_E = 174  # maximum is 174\n",
    "latitude_S = 10  # minimum is 10\n",
    "latitude_N = 60  # minimum is 60\n",
    "\n",
    "# load earthquake data for defined area\n",
    "data = pd.read_csv('data/Japan_10_60_134_174_1973_2023_V2.csv', index_col=0)\n",
    "data['Time'] = pd.to_datetime(data.Time)\n",
    "data = data[(data.Longitude >= longitude_W) & (data.Longitude <= longitude_E) & (data.Latitude >= latitude_S) & (data.Latitude <= latitude_N)]\n",
    "data.set_index('Time', inplace=True)\n",
    "df = data.sort_index()\n",
    "\n",
    "# Bin the longitude and latitude values into 2x2 degree bins\n",
    "df['Longitude_bin'] = pd.cut(df['Longitude'], bins=np.arange(longitude_W, longitude_E + 1, binsize))  # Change bin size to 2 degrees\n",
    "df['Latitude_bin'] = pd.cut(df['Latitude'], bins=np.arange(latitude_S, latitude_N + 1, binsize))  # Change bin size to 2 degrees\n",
    "\n",
    "# Group the data by longitude bin, latitude bin, depth bin, and day, and compute the maximum magnitude within each group\n",
    "grouped = df.groupby(['Longitude_bin', 'Latitude_bin', pd.Grouper(freq=freq, level=\"Time\")]).agg({'Magnitude': 'max', 'Depth': 'mean'})\n",
    "grouped = grouped.unstack().fillna(0)\n",
    "\n",
    "# Reshape the resulting data into a tensor with shape (time, longitude, latitude, 4)\n",
    "time = len(grouped.columns.levels[1])\n",
    "longitude = len(grouped.index.levels[0])\n",
    "latitude = len(grouped.index.levels[1])\n",
    "tensor = np.zeros((time, longitude, latitude, 4))\n",
    "\n",
    "for t in range(time):\n",
    "    tensor[t, :, :, 0] = grouped['Magnitude'].iloc[:, t].values.reshape(longitude, latitude)\n",
    "    tensor[t, :, :, 3] = grouped['Depth'].iloc[:, t].values.reshape(longitude, latitude)\n",
    "\n",
    "latitude_values = np.linspace(latitude_S, latitude_N - binsize, latitude) + binsize / 2\n",
    "longitude_values = np.linspace(longitude_W, longitude_E - binsize, longitude) + binsize / 2\n",
    "\n",
    "tensor[:, :, :, 1] = np.repeat(latitude_values, longitude).reshape(latitude, longitude).T\n",
    "tensor[:, :, :, 2] = np.tile(longitude_values, latitude).reshape(latitude, longitude).T\n",
    "\n",
    "# Rotate dimensions corresponding to 20 and 25, 90 degrees anti-clockwise\n",
    "tensor = np.transpose(tensor, axes=(0, 2, 1, 3))\n",
    "tensor = np.flip(tensor, axis=1)\n",
    "\n",
    "# Print the shape of the tensor\n",
    "print(tensor.shape)\n",
    "\n",
    "# Reshape tensor into matrix\n",
    "matrix = np.reshape(tensor[:,:,:,0], (tensor.shape[0], -1))\n",
    "# Keep only the columns with at least one number bigger than 0\n",
    "matrix = matrix[:, (matrix > 0).sum(axis=0) >= 0]\n",
    "print(matrix.shape)\n"
   ]
  },
  {
   "attachments": {},
   "cell_type": "markdown",
   "metadata": {},
   "source": [
    "### split the data"
   ]
  },
  {
   "cell_type": "code",
   "execution_count": 11,
   "metadata": {},
   "outputs": [],
   "source": [
    "from sklearn.model_selection import train_test_split\n",
    "\n",
    "# split data in train, val, test\n",
    "\n",
    "# Activate when only forecasting one region\n",
    "# matrix = np.reshape(matrix, (matrix.shape[0], matrix.shape[1], 1))\n",
    "\n",
    "train, val_test = train_test_split(matrix, test_size=.3, shuffle=False, random_state=43)\n",
    "val, test = train_test_split(val_test, test_size=.5, shuffle=False, random_state=43)"
   ]
  },
  {
   "attachments": {},
   "cell_type": "markdown",
   "metadata": {},
   "source": [
    "### create sliding window datasets"
   ]
  },
  {
   "cell_type": "code",
   "execution_count": 12,
   "metadata": {},
   "outputs": [
    {
     "name": "stdout",
     "output_type": "stream",
     "text": [
      "(354, 2160, 80) (354, 80)\n",
      "(19, 2160, 80) (19, 80)\n",
      "(19, 2160, 80) (19, 80)\n"
     ]
    }
   ],
   "source": [
    "from tensorflow.keras.preprocessing import timeseries_dataset_from_array\n",
    "import tensorflow as tf\n",
    "\n",
    "def dataset_generator(data, seq_length, samp_rate, stride, cutoff):\n",
    "\n",
    "  input_data = data\n",
    "  target_data = data\n",
    "  dataset = timeseries_dataset_from_array(input_data, targets=None, sequence_length=seq_length, sampling_rate=samp_rate, sequence_stride=stride, shuffle=False, batch_size=len(data))\n",
    "\n",
    "  return dataset\n",
    "\n",
    "# Set lookback timewindow\n",
    "lookback_window = 30 * 72\n",
    "cutoff = 4.5\n",
    "future_timesteps = 30\n",
    "timewindow = lookback_window + future_timesteps\n",
    "samp_rate = 1\n",
    "stride = future_timesteps\n",
    "\n",
    "train_dataset = dataset_generator(train, timewindow, samp_rate, stride, cutoff)\n",
    "val_dataset = dataset_generator(val, timewindow, samp_rate, stride, cutoff)\n",
    "test_dataset = dataset_generator(test, timewindow, samp_rate, stride, cutoff)\n",
    "\n",
    "# Create train set\n",
    "for batch in train_dataset:\n",
    "    X_train = batch[:,:-future_timesteps,:]\n",
    "    # X_train = np.reshape(X_train, (X_train.shape[0], -1))\n",
    "\n",
    "    y_train = batch[:,-future_timesteps:,:] >= cutoff\n",
    "    y_train = np.max(y_train, axis=1).astype(int)\n",
    "    # y_train = np.reshape(y_train, (y_train.shape[0], 1, y_train.shape[1])).astype(int)\n",
    "\n",
    "# y_train = tf.reshape(y_train, shape=[y_train.shape[0], 1, y_train.shape[1]])\n",
    "\n",
    "# Collapse the depth dimension and converts all non-zero values to 1 and zero values to 0\n",
    "# y_train = tf.cast(tf.reduce_max(y_train, axis=2, keepdims=True) > 0, dtype=tf.int32)\n",
    "\n",
    "# Create validation set\n",
    "for batch in val_dataset:\n",
    "    X_val = batch[:,:-future_timesteps,:]\n",
    "    # X_val = np.reshape(X_val, (X_val.shape[0], -1))\n",
    "\n",
    "    y_val = batch[:,-future_timesteps:,:] >= cutoff\n",
    "    y_val = np.max(y_val, axis=1).astype(int)\n",
    "    # y_val = np.reshape(y_val, (y_val.shape[0], 1, y_val.shape[1])).astype(int)\n",
    "\n",
    "# y_val = tf.reshape(y_val, shape=[y_val.shape[0], 1, y_val.shape[1]])\n",
    "\n",
    "# Collapse the depth dimension and converts all non-zero values to 1 and zero values to 0\n",
    "# y_val = tf.cast(tf.reduce_max(y_val, axis=2, keepdims=True) > 0, dtype=tf.int32)\n",
    "\n",
    "# Create test set\n",
    "for batch in test_dataset:\n",
    "    X_test = batch[:,:-future_timesteps,:]\n",
    "    # X_test = np.reshape(X_test, (X_test.shape[0], -1))\n",
    "\n",
    "    y_test = batch[:,-future_timesteps:,:] >= cutoff\n",
    "    y_test = np.max(y_test, axis=1).astype(int)\n",
    "    # y_test = np.reshape(y_test, (y_test.shape[0], 1, y_test.shape[1])).astype(int)\n",
    "\n",
    "# y_test = tf.reshape(y_test, shape=[y_test.shape[0], 1, y_test.shape[1]])\n",
    "\n",
    "# Collapse the depth dimension and converts all non-zero values to 1 and zero values to 0\n",
    "# y_test = tf.cast(tf.reduce_max(y_test, axis=2, keepdims=True) > 0, dtype=tf.int32)\n",
    "\n",
    "################################# Use for MLP\n",
    "# Flatten 1 and 2 dimensions of X's for multivariate MLP\n",
    "# X_train = np.reshape(X_train, (X_train.shape[0],-1))\n",
    "# X_val = np.reshape(X_val, (X_val.shape[0],-1))\n",
    "# X_test = np.reshape(X_test, (X_test.shape[0],-1))\n",
    "\n",
    "print(X_train.shape, y_train.shape)\n",
    "print(X_val.shape, y_val.shape)\n",
    "print(X_test.shape, y_test.shape)"
   ]
  },
  {
   "attachments": {},
   "cell_type": "markdown",
   "metadata": {},
   "source": [
    "### LSTM model build"
   ]
  },
  {
   "cell_type": "code",
   "execution_count": 13,
   "metadata": {},
   "outputs": [
    {
     "name": "stdout",
     "output_type": "stream",
     "text": [
      "Model: \"sequential\"\n",
      "_________________________________________________________________\n",
      " Layer (type)                Output Shape              Param #   \n",
      "=================================================================\n",
      " batch_normalization (BatchN  (354, 2160, 80)          320       \n",
      " ormalization)                                                   \n",
      "                                                                 \n",
      " lstm (LSTM)                 (354, 2160, 64)           37120     \n",
      "                                                                 \n",
      " batch_normalization_1 (Batc  (354, 2160, 64)          256       \n",
      " hNormalization)                                                 \n",
      "                                                                 \n",
      " lstm_1 (LSTM)               (354, 64)                 33024     \n",
      "                                                                 \n",
      " batch_normalization_2 (Batc  (354, 64)                256       \n",
      " hNormalization)                                                 \n",
      "                                                                 \n",
      " dense (Dense)               (354, 80)                 5200      \n",
      "                                                                 \n",
      "=================================================================\n",
      "Total params: 76,176\n",
      "Trainable params: 75,760\n",
      "Non-trainable params: 416\n",
      "_________________________________________________________________\n"
     ]
    }
   ],
   "source": [
    "from keras.models import Sequential, Model\n",
    "from keras.layers import LSTM, Dense, Flatten, Input, TimeDistributed, Dropout, RepeatVector, BatchNormalization\n",
    "from keras.layers import LSTM, GRU, Bidirectional, SimpleRNN, ConvLSTM1D\n",
    "from tensorflow.keras.utils import plot_model\n",
    "import pandas as pd\n",
    "import numpy as np\n",
    "import keras\n",
    "from keras.callbacks import EarlyStopping\n",
    "from keras import regularizers\n",
    "from keras import backend as K\n",
    "\n",
    "keras.backend.clear_session()\n",
    "\n",
    "# define model\n",
    "model = Sequential()\n",
    "\n",
    "model.add(BatchNormalization())\n",
    "model.add(LSTM(64, activation='tanh',\n",
    "               return_sequences=True,\n",
    "               input_shape=(X_train.shape[1:]),\n",
    "               kernel_regularizer=regularizers.L1L2(l1=1e-4, l2=1e-4),\n",
    "               bias_regularizer=regularizers.L1L2(l1=1e-4, l2=1e-4),\n",
    "               dropout=0.4,\n",
    "               ))\n",
    "               \n",
    "model.add(BatchNormalization())\n",
    "\n",
    "model.add(LSTM(64, activation='tanh', return_sequences=False))\n",
    "model.add(BatchNormalization())\n",
    "model.add(Dense(y_train.shape[1], activation=\"sigmoid\"))\n",
    "\n",
    "opt = keras.optimizers.Adam(learning_rate=0.001)\n",
    "loss = tf.keras.losses.BinaryFocalCrossentropy( apply_class_balancing=True, alpha=.7, gamma=1)\n",
    "model.compile(optimizer=opt, loss=loss, metrics=[keras.metrics.Precision(), keras.metrics.Recall()])\n",
    "model.build(input_shape=X_train.shape)\n",
    "model.summary()\n"
   ]
  },
  {
   "attachments": {},
   "cell_type": "markdown",
   "metadata": {},
   "source": [
    "### fit model"
   ]
  },
  {
   "cell_type": "code",
   "execution_count": 14,
   "metadata": {},
   "outputs": [
    {
     "name": "stdout",
     "output_type": "stream",
     "text": [
      "Epoch 1/500\n",
      "3/3 [==============================] - 13s 4s/step - loss: 0.3399 - precision: 0.2006 - recall: 0.5126 - val_loss: 0.2929 - val_precision: 0.2288 - val_recall: 0.5480\n",
      "Epoch 2/500\n",
      "3/3 [==============================] - 13s 4s/step - loss: 0.3249 - precision: 0.2019 - recall: 0.5126 - val_loss: 0.2859 - val_precision: 0.2473 - val_recall: 0.5904\n",
      "Epoch 3/500\n",
      "3/3 [==============================] - 12s 4s/step - loss: 0.3114 - precision: 0.2043 - recall: 0.5165 - val_loss: 0.2791 - val_precision: 0.2756 - val_recall: 0.6384\n",
      "Epoch 4/500\n",
      "3/3 [==============================] - 12s 4s/step - loss: 0.2996 - precision: 0.2097 - recall: 0.5295 - val_loss: 0.2726 - val_precision: 0.3049 - val_recall: 0.6977\n",
      "Epoch 5/500\n",
      "3/3 [==============================] - 13s 4s/step - loss: 0.2901 - precision: 0.2096 - recall: 0.5287 - val_loss: 0.2663 - val_precision: 0.3278 - val_recall: 0.7288\n",
      "Epoch 6/500\n",
      "3/3 [==============================] - 13s 4s/step - loss: 0.2792 - precision: 0.2178 - recall: 0.5426 - val_loss: 0.2601 - val_precision: 0.3490 - val_recall: 0.7542\n",
      "Epoch 7/500\n",
      "3/3 [==============================] - 12s 4s/step - loss: 0.2704 - precision: 0.2222 - recall: 0.5550 - val_loss: 0.2541 - val_precision: 0.3655 - val_recall: 0.7486\n",
      "Epoch 8/500\n",
      "3/3 [==============================] - 12s 4s/step - loss: 0.2623 - precision: 0.2264 - recall: 0.5582 - val_loss: 0.2482 - val_precision: 0.3956 - val_recall: 0.7655\n",
      "Epoch 9/500\n",
      "3/3 [==============================] - 13s 4s/step - loss: 0.2542 - precision: 0.2303 - recall: 0.5724 - val_loss: 0.2426 - val_precision: 0.4198 - val_recall: 0.7768\n",
      "Epoch 10/500\n",
      "3/3 [==============================] - 12s 4s/step - loss: 0.2467 - precision: 0.2342 - recall: 0.5744 - val_loss: 0.2371 - val_precision: 0.4603 - val_recall: 0.7853\n",
      "Epoch 11/500\n",
      "3/3 [==============================] - 13s 4s/step - loss: 0.2396 - precision: 0.2407 - recall: 0.5835 - val_loss: 0.2317 - val_precision: 0.5026 - val_recall: 0.8107\n",
      "Epoch 12/500\n",
      "3/3 [==============================] - 13s 4s/step - loss: 0.2326 - precision: 0.2511 - recall: 0.6035 - val_loss: 0.2263 - val_precision: 0.5338 - val_recall: 0.8249\n",
      "Epoch 13/500\n",
      "3/3 [==============================] - 11s 4s/step - loss: 0.2262 - precision: 0.2601 - recall: 0.6222 - val_loss: 0.2210 - val_precision: 0.5668 - val_recall: 0.8390\n",
      "Epoch 14/500\n",
      "3/3 [==============================] - 12s 4s/step - loss: 0.2202 - precision: 0.2668 - recall: 0.6310 - val_loss: 0.2159 - val_precision: 0.5968 - val_recall: 0.8446\n",
      "Epoch 15/500\n",
      "3/3 [==============================] - 13s 4s/step - loss: 0.2144 - precision: 0.2764 - recall: 0.6471 - val_loss: 0.2107 - val_precision: 0.6144 - val_recall: 0.8418\n",
      "Epoch 16/500\n",
      "3/3 [==============================] - 12s 4s/step - loss: 0.2080 - precision: 0.2824 - recall: 0.6502 - val_loss: 0.2057 - val_precision: 0.6398 - val_recall: 0.8531\n",
      "Epoch 17/500\n",
      "3/3 [==============================] - 13s 4s/step - loss: 0.2024 - precision: 0.2990 - recall: 0.6716 - val_loss: 0.2005 - val_precision: 0.6778 - val_recall: 0.8616\n",
      "Epoch 18/500\n",
      "3/3 [==============================] - 12s 4s/step - loss: 0.1966 - precision: 0.3082 - recall: 0.6861 - val_loss: 0.1951 - val_precision: 0.7077 - val_recall: 0.8616\n",
      "Epoch 19/500\n",
      "3/3 [==============================] - 12s 4s/step - loss: 0.1910 - precision: 0.3208 - recall: 0.6991 - val_loss: 0.1898 - val_precision: 0.7341 - val_recall: 0.8503\n",
      "Epoch 20/500\n",
      "3/3 [==============================] - 13s 4s/step - loss: 0.1859 - precision: 0.3310 - recall: 0.7064 - val_loss: 0.1845 - val_precision: 0.7525 - val_recall: 0.8418\n",
      "Epoch 21/500\n",
      "3/3 [==============================] - 13s 4s/step - loss: 0.1804 - precision: 0.3493 - recall: 0.7253 - val_loss: 0.1793 - val_precision: 0.7570 - val_recall: 0.8362\n",
      "Epoch 22/500\n",
      "3/3 [==============================] - 14s 5s/step - loss: 0.1750 - precision: 0.3681 - recall: 0.7390 - val_loss: 0.1741 - val_precision: 0.7649 - val_recall: 0.8362\n",
      "Epoch 23/500\n",
      "3/3 [==============================] - 14s 4s/step - loss: 0.1695 - precision: 0.3849 - recall: 0.7546 - val_loss: 0.1692 - val_precision: 0.7857 - val_recall: 0.8390\n",
      "Epoch 24/500\n",
      "3/3 [==============================] - 12s 4s/step - loss: 0.1646 - precision: 0.4064 - recall: 0.7765 - val_loss: 0.1646 - val_precision: 0.7920 - val_recall: 0.8390\n",
      "Epoch 25/500\n",
      "3/3 [==============================] - 12s 4s/step - loss: 0.1592 - precision: 0.4273 - recall: 0.7903 - val_loss: 0.1598 - val_precision: 0.8043 - val_recall: 0.8362\n",
      "Epoch 26/500\n",
      "3/3 [==============================] - 11s 4s/step - loss: 0.1540 - precision: 0.4523 - recall: 0.8054 - val_loss: 0.1545 - val_precision: 0.8137 - val_recall: 0.8390\n",
      "Epoch 27/500\n",
      "3/3 [==============================] - 11s 4s/step - loss: 0.1491 - precision: 0.4797 - recall: 0.8175 - val_loss: 0.1494 - val_precision: 0.8177 - val_recall: 0.8362\n",
      "Epoch 28/500\n",
      "3/3 [==============================] - 13s 4s/step - loss: 0.1434 - precision: 0.5118 - recall: 0.8397 - val_loss: 0.1445 - val_precision: 0.8222 - val_recall: 0.8362\n",
      "Epoch 29/500\n",
      "3/3 [==============================] - 12s 4s/step - loss: 0.1386 - precision: 0.5406 - recall: 0.8469 - val_loss: 0.1395 - val_precision: 0.8263 - val_recall: 0.8333\n",
      "Epoch 30/500\n",
      "3/3 [==============================] - 11s 3s/step - loss: 0.1337 - precision: 0.5677 - recall: 0.8530 - val_loss: 0.1341 - val_precision: 0.8212 - val_recall: 0.8305\n",
      "Epoch 31/500\n",
      "3/3 [==============================] - 11s 4s/step - loss: 0.1284 - precision: 0.5934 - recall: 0.8759 - val_loss: 0.1290 - val_precision: 0.8167 - val_recall: 0.8305\n",
      "Epoch 32/500\n",
      "3/3 [==============================] - 11s 4s/step - loss: 0.1233 - precision: 0.6231 - recall: 0.8843 - val_loss: 0.1246 - val_precision: 0.8122 - val_recall: 0.8305\n",
      "Epoch 33/500\n",
      "3/3 [==============================] - 11s 4s/step - loss: 0.1187 - precision: 0.6492 - recall: 0.8927 - val_loss: 0.1199 - val_precision: 0.8065 - val_recall: 0.8362\n",
      "Epoch 34/500\n",
      "3/3 [==============================] - 11s 4s/step - loss: 0.1141 - precision: 0.6653 - recall: 0.9005 - val_loss: 0.1148 - val_precision: 0.8110 - val_recall: 0.8362\n",
      "Epoch 35/500\n",
      "3/3 [==============================] - 11s 4s/step - loss: 0.1094 - precision: 0.6784 - recall: 0.9032 - val_loss: 0.1100 - val_precision: 0.8104 - val_recall: 0.8333\n",
      "Epoch 36/500\n",
      "3/3 [==============================] - 12s 4s/step - loss: 0.1052 - precision: 0.6935 - recall: 0.9044 - val_loss: 0.1065 - val_precision: 0.8127 - val_recall: 0.8333\n",
      "Epoch 37/500\n",
      "3/3 [==============================] - 12s 4s/step - loss: 0.1009 - precision: 0.7029 - recall: 0.9118 - val_loss: 0.1025 - val_precision: 0.8127 - val_recall: 0.8333\n",
      "Epoch 38/500\n",
      "3/3 [==============================] - 11s 3s/step - loss: 0.0967 - precision: 0.7140 - recall: 0.9129 - val_loss: 0.0988 - val_precision: 0.8149 - val_recall: 0.8333\n",
      "Epoch 39/500\n",
      "3/3 [==============================] - 11s 4s/step - loss: 0.0929 - precision: 0.7212 - recall: 0.9132 - val_loss: 0.0951 - val_precision: 0.8179 - val_recall: 0.8249\n",
      "Epoch 40/500\n",
      "3/3 [==============================] - 12s 4s/step - loss: 0.0893 - precision: 0.7288 - recall: 0.9157 - val_loss: 0.0917 - val_precision: 0.8197 - val_recall: 0.8220\n",
      "Epoch 41/500\n",
      "3/3 [==============================] - 12s 4s/step - loss: 0.0860 - precision: 0.7296 - recall: 0.9152 - val_loss: 0.0893 - val_precision: 0.8197 - val_recall: 0.8220\n",
      "Epoch 42/500\n",
      "3/3 [==============================] - 13s 4s/step - loss: 0.0826 - precision: 0.7367 - recall: 0.9168 - val_loss: 0.0863 - val_precision: 0.8184 - val_recall: 0.8277\n",
      "Epoch 43/500\n",
      "3/3 [==============================] - 13s 4s/step - loss: 0.0796 - precision: 0.7348 - recall: 0.9188 - val_loss: 0.0830 - val_precision: 0.8144 - val_recall: 0.8305\n",
      "Epoch 44/500\n",
      "3/3 [==============================] - 12s 4s/step - loss: 0.0769 - precision: 0.7360 - recall: 0.9192 - val_loss: 0.0799 - val_precision: 0.8127 - val_recall: 0.8333\n",
      "Epoch 45/500\n",
      "3/3 [==============================] - 13s 4s/step - loss: 0.0747 - precision: 0.7392 - recall: 0.9159 - val_loss: 0.0785 - val_precision: 0.8144 - val_recall: 0.8305\n",
      "Epoch 46/500\n",
      "3/3 [==============================] - 13s 4s/step - loss: 0.0721 - precision: 0.7395 - recall: 0.9177 - val_loss: 0.0775 - val_precision: 0.8291 - val_recall: 0.8220\n",
      "Epoch 47/500\n",
      "3/3 [==============================] - 13s 4s/step - loss: 0.0703 - precision: 0.7413 - recall: 0.9217 - val_loss: 0.0751 - val_precision: 0.8202 - val_recall: 0.8249\n",
      "Epoch 48/500\n",
      "3/3 [==============================] - 12s 4s/step - loss: 0.0687 - precision: 0.7387 - recall: 0.9172 - val_loss: 0.0738 - val_precision: 0.8122 - val_recall: 0.8305\n",
      "Epoch 49/500\n",
      "3/3 [==============================] - 14s 4s/step - loss: 0.0669 - precision: 0.7422 - recall: 0.9159 - val_loss: 0.0727 - val_precision: 0.8110 - val_recall: 0.8362\n",
      "Epoch 50/500\n",
      "3/3 [==============================] - 13s 4s/step - loss: 0.0651 - precision: 0.7435 - recall: 0.9165 - val_loss: 0.0710 - val_precision: 0.8043 - val_recall: 0.8362\n",
      "Epoch 51/500\n",
      "3/3 [==============================] - 13s 4s/step - loss: 0.0638 - precision: 0.7420 - recall: 0.9168 - val_loss: 0.0696 - val_precision: 0.8032 - val_recall: 0.8418\n",
      "Epoch 52/500\n",
      "3/3 [==============================] - 12s 4s/step - loss: 0.0624 - precision: 0.7470 - recall: 0.9208 - val_loss: 0.0689 - val_precision: 0.8071 - val_recall: 0.8390\n",
      "Epoch 53/500\n",
      "3/3 [==============================] - 13s 4s/step - loss: 0.0614 - precision: 0.7463 - recall: 0.9175 - val_loss: 0.0681 - val_precision: 0.8104 - val_recall: 0.8333\n",
      "Epoch 54/500\n",
      "3/3 [==============================] - 12s 4s/step - loss: 0.0605 - precision: 0.7441 - recall: 0.9170 - val_loss: 0.0668 - val_precision: 0.8207 - val_recall: 0.8277\n",
      "Epoch 55/500\n",
      "3/3 [==============================] - 13s 4s/step - loss: 0.0590 - precision: 0.7496 - recall: 0.9222 - val_loss: 0.0656 - val_precision: 0.8207 - val_recall: 0.8277\n",
      "Epoch 56/500\n",
      "3/3 [==============================] - 13s 4s/step - loss: 0.0579 - precision: 0.7459 - recall: 0.9211 - val_loss: 0.0651 - val_precision: 0.8167 - val_recall: 0.8305\n",
      "Epoch 57/500\n",
      "3/3 [==============================] - 13s 4s/step - loss: 0.0576 - precision: 0.7472 - recall: 0.9202 - val_loss: 0.0646 - val_precision: 0.8154 - val_recall: 0.8362\n",
      "Epoch 58/500\n",
      "3/3 [==============================] - 13s 4s/step - loss: 0.0564 - precision: 0.7490 - recall: 0.9199 - val_loss: 0.0641 - val_precision: 0.8065 - val_recall: 0.8362\n",
      "Epoch 59/500\n",
      "3/3 [==============================] - 13s 4s/step - loss: 0.0559 - precision: 0.7488 - recall: 0.9184 - val_loss: 0.0638 - val_precision: 0.8093 - val_recall: 0.8390\n",
      "Epoch 60/500\n",
      "3/3 [==============================] - 13s 4s/step - loss: 0.0550 - precision: 0.7503 - recall: 0.9215 - val_loss: 0.0635 - val_precision: 0.8110 - val_recall: 0.8362\n",
      "Epoch 61/500\n",
      "3/3 [==============================] - 12s 4s/step - loss: 0.0542 - precision: 0.7526 - recall: 0.9233 - val_loss: 0.0629 - val_precision: 0.8194 - val_recall: 0.8333\n",
      "Epoch 62/500\n",
      "3/3 [==============================] - 13s 4s/step - loss: 0.0540 - precision: 0.7524 - recall: 0.9202 - val_loss: 0.0624 - val_precision: 0.8212 - val_recall: 0.8305\n",
      "Epoch 63/500\n",
      "3/3 [==============================] - 12s 4s/step - loss: 0.0533 - precision: 0.7536 - recall: 0.9217 - val_loss: 0.0621 - val_precision: 0.8258 - val_recall: 0.8305\n",
      "Epoch 64/500\n",
      "3/3 [==============================] - 12s 4s/step - loss: 0.0527 - precision: 0.7548 - recall: 0.9204 - val_loss: 0.0617 - val_precision: 0.8240 - val_recall: 0.8333\n",
      "Epoch 65/500\n",
      "3/3 [==============================] - 12s 4s/step - loss: 0.0524 - precision: 0.7579 - recall: 0.9226 - val_loss: 0.0611 - val_precision: 0.8149 - val_recall: 0.8333\n",
      "Epoch 66/500\n",
      "3/3 [==============================] - 12s 4s/step - loss: 0.0520 - precision: 0.7555 - recall: 0.9177 - val_loss: 0.0608 - val_precision: 0.8087 - val_recall: 0.8362\n",
      "Epoch 67/500\n",
      "3/3 [==============================] - 12s 4s/step - loss: 0.0513 - precision: 0.7578 - recall: 0.9218 - val_loss: 0.0606 - val_precision: 0.8093 - val_recall: 0.8390\n",
      "Epoch 68/500\n",
      "3/3 [==============================] - 11s 4s/step - loss: 0.0512 - precision: 0.7540 - recall: 0.9195 - val_loss: 0.0605 - val_precision: 0.8182 - val_recall: 0.8390\n",
      "Epoch 69/500\n",
      "3/3 [==============================] - 11s 4s/step - loss: 0.0506 - precision: 0.7576 - recall: 0.9247 - val_loss: 0.0605 - val_precision: 0.8235 - val_recall: 0.8305\n",
      "Epoch 70/500\n",
      "3/3 [==============================] - 11s 4s/step - loss: 0.0502 - precision: 0.7567 - recall: 0.9247 - val_loss: 0.0604 - val_precision: 0.8235 - val_recall: 0.8305\n",
      "Epoch 71/500\n",
      "3/3 [==============================] - 11s 4s/step - loss: 0.0500 - precision: 0.7557 - recall: 0.9278 - val_loss: 0.0600 - val_precision: 0.8217 - val_recall: 0.8333\n",
      "Epoch 72/500\n",
      "3/3 [==============================] - 11s 4s/step - loss: 0.0495 - precision: 0.7595 - recall: 0.9254 - val_loss: 0.0596 - val_precision: 0.8043 - val_recall: 0.8362\n",
      "Epoch 73/500\n",
      "3/3 [==============================] - 11s 4s/step - loss: 0.0489 - precision: 0.7609 - recall: 0.9249 - val_loss: 0.0594 - val_precision: 0.8022 - val_recall: 0.8362\n",
      "Epoch 74/500\n",
      "3/3 [==============================] - 12s 4s/step - loss: 0.0489 - precision: 0.7592 - recall: 0.9224 - val_loss: 0.0592 - val_precision: 0.8087 - val_recall: 0.8362\n",
      "Epoch 75/500\n",
      "3/3 [==============================] - 11s 4s/step - loss: 0.0487 - precision: 0.7590 - recall: 0.9227 - val_loss: 0.0590 - val_precision: 0.8132 - val_recall: 0.8362\n",
      "Epoch 76/500\n",
      "3/3 [==============================] - 11s 4s/step - loss: 0.0485 - precision: 0.7601 - recall: 0.9249 - val_loss: 0.0588 - val_precision: 0.8120 - val_recall: 0.8418\n",
      "Epoch 77/500\n",
      "3/3 [==============================] - 11s 4s/step - loss: 0.0480 - precision: 0.7641 - recall: 0.9240 - val_loss: 0.0588 - val_precision: 0.8120 - val_recall: 0.8418\n",
      "Epoch 78/500\n",
      "3/3 [==============================] - 12s 4s/step - loss: 0.0474 - precision: 0.7661 - recall: 0.9267 - val_loss: 0.0590 - val_precision: 0.8164 - val_recall: 0.8418\n",
      "Epoch 79/500\n",
      "3/3 [==============================] - 12s 4s/step - loss: 0.0473 - precision: 0.7650 - recall: 0.9247 - val_loss: 0.0592 - val_precision: 0.8240 - val_recall: 0.8333\n",
      "Epoch 80/500\n",
      "3/3 [==============================] - 12s 4s/step - loss: 0.0471 - precision: 0.7654 - recall: 0.9238 - val_loss: 0.0592 - val_precision: 0.8254 - val_recall: 0.8277\n",
      "Epoch 81/500\n",
      "3/3 [==============================] - 12s 4s/step - loss: 0.0468 - precision: 0.7651 - recall: 0.9285 - val_loss: 0.0588 - val_precision: 0.8263 - val_recall: 0.8333\n",
      "Epoch 82/500\n",
      "3/3 [==============================] - 12s 4s/step - loss: 0.0466 - precision: 0.7670 - recall: 0.9265 - val_loss: 0.0584 - val_precision: 0.8222 - val_recall: 0.8362\n",
      "Epoch 83/500\n",
      "3/3 [==============================] - 12s 4s/step - loss: 0.0461 - precision: 0.7653 - recall: 0.9274 - val_loss: 0.0583 - val_precision: 0.8222 - val_recall: 0.8362\n",
      "Epoch 84/500\n",
      "3/3 [==============================] - 12s 4s/step - loss: 0.0462 - precision: 0.7681 - recall: 0.9290 - val_loss: 0.0584 - val_precision: 0.8254 - val_recall: 0.8277\n",
      "Epoch 85/500\n",
      "3/3 [==============================] - 12s 4s/step - loss: 0.0452 - precision: 0.7718 - recall: 0.9328 - val_loss: 0.0582 - val_precision: 0.8240 - val_recall: 0.8333\n",
      "Epoch 86/500\n",
      "3/3 [==============================] - 12s 4s/step - loss: 0.0459 - precision: 0.7688 - recall: 0.9289 - val_loss: 0.0580 - val_precision: 0.8154 - val_recall: 0.8362\n",
      "Epoch 87/500\n",
      "3/3 [==============================] - 12s 4s/step - loss: 0.0452 - precision: 0.7692 - recall: 0.9271 - val_loss: 0.0578 - val_precision: 0.8159 - val_recall: 0.8390\n",
      "Epoch 88/500\n",
      "3/3 [==============================] - 13s 4s/step - loss: 0.0449 - precision: 0.7726 - recall: 0.9319 - val_loss: 0.0577 - val_precision: 0.8159 - val_recall: 0.8390\n",
      "Epoch 89/500\n",
      "3/3 [==============================] - 12s 4s/step - loss: 0.0450 - precision: 0.7713 - recall: 0.9330 - val_loss: 0.0574 - val_precision: 0.8164 - val_recall: 0.8418\n",
      "Epoch 90/500\n",
      "3/3 [==============================] - 14s 5s/step - loss: 0.0444 - precision: 0.7717 - recall: 0.9308 - val_loss: 0.0573 - val_precision: 0.8147 - val_recall: 0.8446\n",
      "Epoch 91/500\n",
      "3/3 [==============================] - 14s 4s/step - loss: 0.0448 - precision: 0.7686 - recall: 0.9305 - val_loss: 0.0572 - val_precision: 0.8142 - val_recall: 0.8418\n",
      "Epoch 92/500\n",
      "3/3 [==============================] - 14s 4s/step - loss: 0.0444 - precision: 0.7708 - recall: 0.9276 - val_loss: 0.0572 - val_precision: 0.8103 - val_recall: 0.8446\n",
      "Epoch 93/500\n",
      "3/3 [==============================] - 14s 5s/step - loss: 0.0443 - precision: 0.7724 - recall: 0.9292 - val_loss: 0.0572 - val_precision: 0.8059 - val_recall: 0.8446\n",
      "Epoch 94/500\n",
      "3/3 [==============================] - 15s 5s/step - loss: 0.0436 - precision: 0.7760 - recall: 0.9341 - val_loss: 0.0570 - val_precision: 0.8103 - val_recall: 0.8446\n",
      "Epoch 95/500\n",
      "3/3 [==============================] - 14s 4s/step - loss: 0.0436 - precision: 0.7738 - recall: 0.9315 - val_loss: 0.0569 - val_precision: 0.8169 - val_recall: 0.8446\n",
      "Epoch 96/500\n",
      "3/3 [==============================] - 15s 5s/step - loss: 0.0438 - precision: 0.7747 - recall: 0.9299 - val_loss: 0.0568 - val_precision: 0.8125 - val_recall: 0.8446\n",
      "Epoch 97/500\n",
      "3/3 [==============================] - 15s 5s/step - loss: 0.0437 - precision: 0.7716 - recall: 0.9290 - val_loss: 0.0570 - val_precision: 0.8115 - val_recall: 0.8390\n",
      "Epoch 98/500\n",
      "3/3 [==============================] - 15s 5s/step - loss: 0.0432 - precision: 0.7750 - recall: 0.9303 - val_loss: 0.0574 - val_precision: 0.8110 - val_recall: 0.8362\n",
      "Epoch 99/500\n",
      "3/3 [==============================] - 13s 4s/step - loss: 0.0433 - precision: 0.7751 - recall: 0.9292 - val_loss: 0.0575 - val_precision: 0.8127 - val_recall: 0.8333\n",
      "Epoch 100/500\n",
      "3/3 [==============================] - 12s 4s/step - loss: 0.0429 - precision: 0.7743 - recall: 0.9326 - val_loss: 0.0573 - val_precision: 0.8110 - val_recall: 0.8362\n",
      "Epoch 101/500\n",
      "3/3 [==============================] - 14s 5s/step - loss: 0.0426 - precision: 0.7791 - recall: 0.9328 - val_loss: 0.0568 - val_precision: 0.8059 - val_recall: 0.8446\n"
     ]
    }
   ],
   "source": [
    "# early stopping\n",
    "callback = EarlyStopping(monitor='val_loss', patience=5)\n",
    "# fit model\n",
    "history = model.fit(x=X_train,\n",
    "                    y=y_train,\n",
    "                    validation_data=(X_val,y_val),\n",
    "                    batch_size=128,\n",
    "                    epochs=500,\n",
    "                    verbose=1,\n",
    "                    callbacks=[callback],\n",
    "                    shuffle=False)"
   ]
  },
  {
   "attachments": {},
   "cell_type": "markdown",
   "metadata": {},
   "source": [
    "### predict"
   ]
  },
  {
   "cell_type": "code",
   "execution_count": 15,
   "metadata": {},
   "outputs": [
    {
     "name": "stdout",
     "output_type": "stream",
     "text": [
      "1/1 [==============================] - 1s 537ms/step\n"
     ]
    }
   ],
   "source": [
    "y_pred = model.predict(X_val)"
   ]
  },
  {
   "attachments": {},
   "cell_type": "markdown",
   "metadata": {},
   "source": [
    "### evaluation metrics"
   ]
  },
  {
   "cell_type": "code",
   "execution_count": 75,
   "metadata": {},
   "outputs": [
    {
     "name": "stdout",
     "output_type": "stream",
     "text": [
      "Accuracy: 0.919737\n",
      "Precision: 0.770667\n",
      "Recall: 0.889231\n",
      "F1 score: 0.825714\n",
      "              precision    recall  f1-score   support\n",
      "\n",
      "       M<4.5       0.97      0.93      0.95      1195\n",
      "      M>=4.5       0.77      0.89      0.83       325\n",
      "\n",
      "    accuracy                           0.92      1520\n",
      "   macro avg       0.87      0.91      0.89      1520\n",
      "weighted avg       0.93      0.92      0.92      1520\n",
      "\n",
      "zeroR: 0.9775\n"
     ]
    }
   ],
   "source": [
    "from sklearn.metrics import accuracy_score\n",
    "from sklearn.metrics import precision_score\n",
    "from sklearn.metrics import recall_score\n",
    "from sklearn.metrics import f1_score\n",
    "from sklearn.metrics import classification_report\n",
    "# y_val = y_test\n",
    "# accuracy: (tp + tn) / (p + n)\n",
    "accuracy = accuracy_score(np.array(y_val).flatten(), y_pred.flatten() >= .5)\n",
    "print('Accuracy: %f' % accuracy)\n",
    "# precision tp / (tp + fp)\n",
    "precision = precision_score(np.array(y_val).flatten(), y_pred.flatten() >= .5)\n",
    "print('Precision: %f' % precision)\n",
    "# recall: tp / (tp + fn)\n",
    "recall = recall_score(np.array(y_val).flatten(), y_pred.flatten() >= .5)\n",
    "print('Recall: %f' % recall)\n",
    "# f1: 2 tp / (2 tp + fp + fn)\n",
    "f1 = f1_score(np.array(y_val).flatten(), y_pred.flatten() >= .5)\n",
    "print('F1 score: %f' % f1)\n",
    "\n",
    "class_names = ['M<4.5', 'M>=4.5']\n",
    "\n",
    "print(classification_report(np.array(y_val).flatten(), y_pred.flatten() >= .5, target_names=class_names))\n",
    "\n",
    "# Calculate the proportion of the majority per row, column combination over all batches\n",
    "majority_prop = np.mean(val >= cutoff, axis=0)[:]\n",
    "\n",
    "# Calculate the complement for values lower than 0.5\n",
    "majority_prop = np.where(majority_prop < 0.5, 1 - majority_prop, majority_prop)\n",
    "zeroR = majority_prop.mean()\n",
    "\n",
    "print(\"zeroR:\", round(zeroR,4))"
   ]
  },
  {
   "attachments": {},
   "cell_type": "markdown",
   "metadata": {},
   "source": [
    "### confusion matrix"
   ]
  },
  {
   "cell_type": "code",
   "execution_count": 41,
   "metadata": {},
   "outputs": [
    {
     "data": {
      "text/plain": [
       "[Text(0, 0.5, 'M<4.5'), Text(0, 1.5, 'M>=4.5')]"
      ]
     },
     "execution_count": 41,
     "metadata": {},
     "output_type": "execute_result"
    },
    {
     "data": {
      "image/png": "[encoded data removed]",
      "text/plain": [
       "<Figure size 500x500 with 2 Axes>"
      ]
     },
     "metadata": {},
     "output_type": "display_data"
    }
   ],
   "source": [
    "import seaborn as sns\n",
    "from sklearn.metrics import confusion_matrix\n",
    "sns.set(rc={'figure.figsize':(5,5)})\n",
    "p = sns.heatmap(confusion_matrix(np.array(y_val).flatten(), y_pred.flatten() >= 0.5), annot=True, fmt='g')\n",
    "p.set_xlabel(\"Predicted\")\n",
    "p.set_ylabel(\"True\")\n",
    "p.xaxis.set_ticklabels(['M<4.5', 'M>=4.5'], ha=\"center\", va=\"center\")\n",
    "p.yaxis.set_ticklabels(['M<4.5', 'M>=4.5'], rotation=0, va=\"center\")"
   ]
  },
  {
   "attachments": {},
   "cell_type": "markdown",
   "metadata": {},
   "source": [
    "### ROC curve"
   ]
  },
  {
   "cell_type": "code",
   "execution_count": 76,
   "metadata": {},
   "outputs": [
    {
     "data": {
      "image/png": "[encoded data removed]",
      "text/plain": [
       "<Figure size 500x500 with 1 Axes>"
      ]
     },
     "metadata": {},
     "output_type": "display_data"
    }
   ],
   "source": [
    "import matplotlib.pyplot as plt\n",
    "from sklearn.metrics import roc_curve, auc\n",
    "\n",
    "# y_pred = scaler.inverse_transform(y_prob)\n",
    "# y_test = scaler.inverse_transform(y)\n",
    "\n",
    "# Compute micro-average ROC curve and ROC area\n",
    "fpr, tpr, _ = roc_curve(np.array(y_val).flatten(), y_pred.flatten())\n",
    "roc_auc = auc(fpr, tpr)\n",
    "\n",
    "# Plot micro-average ROC curve\n",
    "plt.figure(figsize=(5,5))\n",
    "plt.plot(fpr, tpr, label='ROC curve (area = {0:0.2f})'\n",
    "        ''.format(roc_auc), color='blue', linewidth=1)\n",
    "\n",
    "plt.plot([0, 1], [0, 1], 'k--', linewidth=1)\n",
    "plt.xlim([0.0, 1.0])\n",
    "plt.ylim([0.0, 1.05])\n",
    "plt.xlabel('False Positive Rate')\n",
    "plt.ylabel('True Positive Rate')\n",
    "plt.title('ROC Curve')\n",
    "plt.legend(loc=\"lower right\")\n",
    "# plt.savefig(savefig)\n",
    "plt.show()"
   ]
  },
  {
   "attachments": {},
   "cell_type": "markdown",
   "metadata": {},
   "source": [
    "### PR curve"
   ]
  },
  {
   "cell_type": "code",
   "execution_count": 77,
   "metadata": {},
   "outputs": [
    {
     "data": {
      "image/png": "[encoded data removed]",
      "text/plain": [
       "<Figure size 500x500 with 1 Axes>"
      ]
     },
     "metadata": {},
     "output_type": "display_data"
    }
   ],
   "source": [
    "from sklearn.metrics import precision_recall_curve\n",
    "from sklearn.metrics import auc, f1_score\n",
    "import matplotlib.pyplot as plt\n",
    "\n",
    "precision, recall, _ = precision_recall_curve(np.array(y_val).flatten(), y_pred.flatten())\n",
    "auc = auc(recall, precision)\n",
    "\n",
    "# Calculate the proportion of the majority per row, column combination over all batches\n",
    "majority_prop = np.mean(test >= cutoff, axis=0)[:]\n",
    "\n",
    "# Calculate the complement for values lower than 0.5\n",
    "majority_prop = np.where(majority_prop < 0.5, 1 - majority_prop, majority_prop)\n",
    "zeroR = majority_prop.mean()\n",
    "\n",
    "# plot the precision-recall curves\n",
    "no_skill = (np.array(y_val).flatten()).sum() / len(np.array(y_val).flatten())\n",
    "plt.plot([0, 1], [no_skill,no_skill], linestyle='--', label='positive class = %.3f' % (no_skill))\n",
    "plt.plot(recall, precision, label='PR_curve, AUC = %.3f' % (auc))\n",
    "# axis labels\n",
    "plt.xlabel('Recall')\n",
    "plt.ylabel('Precision')\n",
    "plt.title('PR Curve')\n",
    "# show the legend\n",
    "plt.legend()\n",
    "# show the plot\n",
    "plt.show()"
   ]
  },
  {
   "attachments": {},
   "cell_type": "markdown",
   "metadata": {},
   "source": [
    "### plot predicted against true"
   ]
  },
  {
   "cell_type": "code",
   "execution_count": 26,
   "metadata": {},
   "outputs": [
    {
     "data": {
      "image/png": "[encoded data removed]",
      "text/plain": [
       "<Figure size 800x400 with 4 Axes>"
      ]
     },
     "metadata": {},
     "output_type": "display_data"
    }
   ],
   "source": [
    "import seaborn as sns\n",
    "import matplotlib.pyplot as plt\n",
    "\n",
    "# Reshape data to grid\n",
    "y_pred = np.reshape(y_pred, (y_pred.shape[0], tensor.shape[1], tensor.shape[2]))\n",
    "true = np.reshape(y_val, (y_val.shape[0], tensor.shape[1], tensor.shape[2]))\n",
    "\n",
    "# Choose timesteps to plot\n",
    "timestep = 6\n",
    "\n",
    "\n",
    "# Extract the data for the chosen timesteps from the tensor\n",
    "data1 = y_pred[timestep, :, :]\n",
    "data2 = true[timestep, :, :]\n",
    "\n",
    "# Create a figure with two subplots\n",
    "fig, (ax1, ax2) = plt.subplots(ncols=2, figsize=(8, 4))\n",
    "\n",
    "# Plot the data in each subplot\n",
    "sns.heatmap(data1, cmap='coolwarm', vmin=0, vmax=1, linewidths=0.5, linecolor='grey', annot=False, ax=ax1)\n",
    "sns.heatmap(data2, cmap='coolwarm', vmin=0, vmax=1, linewidths=0.5, linecolor='grey', annot=False, ax=ax2)\n",
    "\n",
    "# Set the plot titles and axis labels\n",
    "ax1.set_title(f'Predicted {cutoff} magnitude at timestep {timestep}')\n",
    "ax1.set_xlabel('Longitude bin')\n",
    "ax1.set_ylabel('Latitude bin')\n",
    "\n",
    "ax2.set_title(f'True {cutoff} magnitude at timestep {timestep}')\n",
    "ax2.set_xlabel('Longitude bin')\n",
    "ax2.set_ylabel('Latitude bin')\n",
    "\n",
    "# Show the plot\n",
    "plt.show()"
   ]
  }
 ],
 "metadata": {
  "kernelspec": {
   "display_name": "tflow",
   "language": "python",
   "name": "python3"
  },
  "language_info": {
   "codemirror_mode": {
    "name": "ipython",
    "version": 3
   },
   "file_extension": ".py",
   "mimetype": "text/x-python",
   "name": "python",
   "nbconvert_exporter": "python",
   "pygments_lexer": "ipython3",
   "version": "3.9.16"
  },
  "orig_nbformat": 4
 },
 "nbformat": 4,
 "nbformat_minor": 2
}
